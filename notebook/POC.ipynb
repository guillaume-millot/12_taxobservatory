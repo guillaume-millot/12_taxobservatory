{
 "cells": [
  {
   "cell_type": "code",
   "execution_count": 5,
   "id": "f29eec9d-8c0f-4980-a452-311ba9b6ad1d",
   "metadata": {},
   "outputs": [
    {
     "name": "stdout",
     "output_type": "stream",
     "text": [
      "Collecting ipyfilechooser\n",
      "  Downloading ipyfilechooser-0.6.0-py3-none-any.whl (11 kB)\n",
      "Requirement already satisfied: ipywidgets in /home/ronan/Asso/tax observatory/cbcReporting_venv/lib/python3.10/site-packages (from ipyfilechooser) (8.1.2)\n",
      "Requirement already satisfied: jupyterlab-widgets~=3.0.10 in /home/ronan/Asso/tax observatory/cbcReporting_venv/lib/python3.10/site-packages (from ipywidgets->ipyfilechooser) (3.0.10)\n",
      "Requirement already satisfied: widgetsnbextension~=4.0.10 in /home/ronan/Asso/tax observatory/cbcReporting_venv/lib/python3.10/site-packages (from ipywidgets->ipyfilechooser) (4.0.10)\n",
      "Requirement already satisfied: ipython>=6.1.0 in /home/ronan/Asso/tax observatory/cbcReporting_venv/lib/python3.10/site-packages (from ipywidgets->ipyfilechooser) (8.21.0)\n",
      "Requirement already satisfied: traitlets>=4.3.1 in /home/ronan/Asso/tax observatory/cbcReporting_venv/lib/python3.10/site-packages (from ipywidgets->ipyfilechooser) (5.14.1)\n",
      "Requirement already satisfied: comm>=0.1.3 in /home/ronan/Asso/tax observatory/cbcReporting_venv/lib/python3.10/site-packages (from ipywidgets->ipyfilechooser) (0.2.1)\n",
      "Requirement already satisfied: exceptiongroup in /home/ronan/Asso/tax observatory/cbcReporting_venv/lib/python3.10/site-packages (from ipython>=6.1.0->ipywidgets->ipyfilechooser) (1.2.0)\n",
      "Requirement already satisfied: pygments>=2.4.0 in /home/ronan/Asso/tax observatory/cbcReporting_venv/lib/python3.10/site-packages (from ipython>=6.1.0->ipywidgets->ipyfilechooser) (2.17.2)\n",
      "Requirement already satisfied: stack-data in /home/ronan/Asso/tax observatory/cbcReporting_venv/lib/python3.10/site-packages (from ipython>=6.1.0->ipywidgets->ipyfilechooser) (0.6.3)\n",
      "Requirement already satisfied: matplotlib-inline in /home/ronan/Asso/tax observatory/cbcReporting_venv/lib/python3.10/site-packages (from ipython>=6.1.0->ipywidgets->ipyfilechooser) (0.1.6)\n",
      "Requirement already satisfied: prompt-toolkit<3.1.0,>=3.0.41 in /home/ronan/Asso/tax observatory/cbcReporting_venv/lib/python3.10/site-packages (from ipython>=6.1.0->ipywidgets->ipyfilechooser) (3.0.43)\n",
      "Requirement already satisfied: pexpect>4.3 in /home/ronan/Asso/tax observatory/cbcReporting_venv/lib/python3.10/site-packages (from ipython>=6.1.0->ipywidgets->ipyfilechooser) (4.9.0)\n",
      "Requirement already satisfied: decorator in /home/ronan/Asso/tax observatory/cbcReporting_venv/lib/python3.10/site-packages (from ipython>=6.1.0->ipywidgets->ipyfilechooser) (5.1.1)\n",
      "Requirement already satisfied: jedi>=0.16 in /home/ronan/Asso/tax observatory/cbcReporting_venv/lib/python3.10/site-packages (from ipython>=6.1.0->ipywidgets->ipyfilechooser) (0.19.1)\n",
      "Requirement already satisfied: parso<0.9.0,>=0.8.3 in /home/ronan/Asso/tax observatory/cbcReporting_venv/lib/python3.10/site-packages (from jedi>=0.16->ipython>=6.1.0->ipywidgets->ipyfilechooser) (0.8.3)\n",
      "Requirement already satisfied: ptyprocess>=0.5 in /home/ronan/Asso/tax observatory/cbcReporting_venv/lib/python3.10/site-packages (from pexpect>4.3->ipython>=6.1.0->ipywidgets->ipyfilechooser) (0.7.0)\n",
      "Requirement already satisfied: wcwidth in /home/ronan/Asso/tax observatory/cbcReporting_venv/lib/python3.10/site-packages (from prompt-toolkit<3.1.0,>=3.0.41->ipython>=6.1.0->ipywidgets->ipyfilechooser) (0.2.13)\n",
      "Requirement already satisfied: executing>=1.2.0 in /home/ronan/Asso/tax observatory/cbcReporting_venv/lib/python3.10/site-packages (from stack-data->ipython>=6.1.0->ipywidgets->ipyfilechooser) (2.0.1)\n",
      "Requirement already satisfied: pure-eval in /home/ronan/Asso/tax observatory/cbcReporting_venv/lib/python3.10/site-packages (from stack-data->ipython>=6.1.0->ipywidgets->ipyfilechooser) (0.2.2)\n",
      "Requirement already satisfied: asttokens>=2.1.0 in /home/ronan/Asso/tax observatory/cbcReporting_venv/lib/python3.10/site-packages (from stack-data->ipython>=6.1.0->ipywidgets->ipyfilechooser) (2.4.1)\n",
      "Requirement already satisfied: six>=1.12.0 in /home/ronan/Asso/tax observatory/cbcReporting_venv/lib/python3.10/site-packages (from asttokens>=2.1.0->stack-data->ipython>=6.1.0->ipywidgets->ipyfilechooser) (1.16.0)\n",
      "Installing collected packages: ipyfilechooser\n",
      "Successfully installed ipyfilechooser-0.6.0\n"
     ]
    }
   ],
   "source": [
    "!pip install ipyfilechooser"
   ]
  },
  {
   "cell_type": "code",
   "execution_count": 11,
   "id": "7823e440-a1fb-40ae-82f3-75077dd7c05f",
   "metadata": {},
   "outputs": [
    {
     "data": {
      "application/vnd.jupyter.widget-view+json": {
       "model_id": "b2c7062844e54859b7650500bb1736dc",
       "version_major": 2,
       "version_minor": 0
      },
      "text/plain": [
       "FileChooser(path='/', filename='', title='', show_hidden=False, select_desc='Select', change_desc='Change', se…"
      ]
     },
     "metadata": {},
     "output_type": "display_data"
    }
   ],
   "source": [
    "# CREATE A FILE PICKER\n",
    "from ipyfilechooser import FileChooser\n",
    "\n",
    "\n",
    "fc = FileChooser('/')\n",
    "display(fc)"
   ]
  },
  {
   "cell_type": "code",
   "execution_count": null,
   "id": "a2154857-4d3f-40d7-9441-aa638946cbf2",
   "metadata": {},
   "outputs": [],
   "source": [
    "# FIND THE TABLES  IN THE PDF FILE"
   ]
  }
 ],
 "metadata": {
  "kernelspec": {
   "display_name": "Python 3 (ipykernel)",
   "language": "python",
   "name": "python3"
  },
  "language_info": {
   "codemirror_mode": {
    "name": "ipython",
    "version": 3
   },
   "file_extension": ".py",
   "mimetype": "text/x-python",
   "name": "python",
   "nbconvert_exporter": "python",
   "pygments_lexer": "ipython3",
   "version": "3.10.12"
  }
 },
 "nbformat": 4,
 "nbformat_minor": 5
}
