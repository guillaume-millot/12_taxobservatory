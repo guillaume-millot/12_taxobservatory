{
 "cells": [
  {
   "cell_type": "code",
   "execution_count": 2,
   "id": "a2f42220-4a2b-4898-9274-06fea1751c42",
   "metadata": {},
   "outputs": [
    {
     "name": "stdout",
     "output_type": "stream",
     "text": [
      "Defaulting to user installation because normal site-packages is not writeable\n",
      "Collecting llmsherpa\n",
      "  Downloading llmsherpa-0.1.4-py3-none-any.whl (13 kB)\n",
      "Requirement already satisfied: urllib3 in /home/ronan/.local/lib/python3.10/site-packages (from llmsherpa) (2.2.0)\n",
      "Installing collected packages: llmsherpa\n",
      "Successfully installed llmsherpa-0.1.4\n"
     ]
    }
   ],
   "source": [
    "!pip install llmsherpa"
   ]
  },
  {
   "cell_type": "code",
   "execution_count": 20,
   "id": "a9ce4c23-aecd-4ceb-b368-8886fed2afd4",
   "metadata": {},
   "outputs": [],
   "source": [
    "from llmsherpa.readers import LayoutPDFReader\n",
    "\n",
    "llmsherpa_api_url = \"https://readers.llmsherpa.com/api/document/developer/parseDocument?renderFormat=all\"\n",
    "pdf_url = \"/home/ronan/Asso/tax observatory/taxobservatory_test_set/ACS_2019_CbCR_3.pdf\" # also allowed is a file path e.g. /home/downloads/xyz.pdf\n",
    "pdf_reader = LayoutPDFReader(llmsherpa_api_url)\n",
    "doc = pdf_reader.read_pdf(pdf_url)"
   ]
  },
  {
   "cell_type": "code",
   "execution_count": 22,
   "id": "b77112e8-6125-42cd-8cba-c61d4f19c16b",
   "metadata": {},
   "outputs": [
    {
     "name": "stdout",
     "output_type": "stream",
     "text": [
      "5.9 TAX INFORMATION\n",
      "Corporate Tax Policy\n"
     ]
    }
   ],
   "source": [
    "from IPython.display import display, HTML\n",
    "\n",
    "for section in doc.sections():\n",
    "    print(section.to_text())"
   ]
  },
  {
   "cell_type": "code",
   "execution_count": 23,
   "id": "f30f695f-751d-48bb-ba4e-a3918e97439d",
   "metadata": {},
   "outputs": [
    {
     "data": {
      "text/html": [
       "<h3>Corporate Tax Policy</h3><p>219Free translation from the original in Spanish.\n",
       "In the event of discrepancy, the Spanish-language version prevails.</p><p>219Free translation from the original in Spanish.\n",
       "In the event of discrepancy, the Spanish-language version prevails.</p><p>Based on this criterion, the table below gives a breakdown, by country, of the taxes paid by the ACS Group for all items, pre-tax profit, and the subsidies received in 2020 (amounts in thousands of euros):</p><table><th><td colSpan=1>Country</td><td colSpan=1></td><td colSpan=1>TAXES PAID 2020(1) Subsidies receivedTOTAL Profits tax paid Other taxes paid</td><td colSpan=1>Subsidies receivedTOTAL Profits tax paid Taxes collected</td><td colSpan=1>Pre-tax profit(2) Subsidies receivedTOTAL Profits tax paid</td><td colSpan=1></td></th><tr><td colSpan=1>Spain</td><td colSpan=1>1,357,385</td><td colSpan=1>91,936 530,957</td><td colSpan=1>734,491</td><td colSpan=1>666,350</td><td colSpan=1>538</td></tr><tr><td colSpan=1>United States</td><td colSpan=1>635,352</td><td colSpan=1>55,959</td><td colSpan=1>96,521</td><td colSpan=1>482,871</td><td colSpan=1>31,342</td></tr><tr><td colSpan=1>Australia</td><td colSpan=1>629,832</td><td colSpan=1>6,865 (3) 19,503</td><td colSpan=1>427,937</td><td colSpan=1>552,326</td><td colSpan=1></td></tr><tr><td colSpan=1>Germany</td><td colSpan=1>120,063</td><td colSpan=1>4,771</td><td colSpan=1>36,130</td><td colSpan=1>79,162</td><td colSpan=1>-30,498</td></tr><tr><td colSpan=1>Indonesia</td><td colSpan=1>94,849</td><td colSpan=1>33,217</td><td colSpan=1>15,971</td><td colSpan=1>45,661</td><td colSpan=1>-58,024</td></tr><tr><td colSpan=1>Brazil</td><td colSpan=1>67,586</td><td colSpan=1>41,093</td><td colSpan=1>17,068</td><td colSpan=1>9,425</td><td colSpan=1>110,981</td></tr><tr><td colSpan=1>United Kingdom</td><td colSpan=1>52,325</td><td colSpan=1>1,580 (3) 10,173</td><td colSpan=1>40,572</td><td colSpan=1>14,627</td><td colSpan=1></td></tr><tr><td colSpan=1>Chile</td><td colSpan=1>45,662</td><td colSpan=1>11</td><td colSpan=1>11,450</td><td colSpan=1>34,202</td><td colSpan=1>-73,946</td></tr><tr><td colSpan=1>Mexico</td><td colSpan=1>41,139</td><td colSpan=1>39,018</td><td colSpan=1>20,228</td><td colSpan=1>-18,107</td><td colSpan=1>43,264</td></tr><tr><td colSpan=1>Singapore</td><td colSpan=1>36,950</td><td colSpan=1>35,996 (3) 1,104</td><td colSpan=1>-150</td><td colSpan=1>37,190</td><td colSpan=1></td></tr><tr><td colSpan=1>Peru</td><td colSpan=1>36,694</td><td colSpan=1>13,109</td><td colSpan=1>4,317</td><td colSpan=1>19,268</td><td colSpan=1>47,213</td></tr><tr><td colSpan=1>Poland</td><td colSpan=1>23,510</td><td colSpan=1>336</td><td colSpan=1>6,037</td><td colSpan=1>17,138</td><td colSpan=1>-24,525</td></tr><tr><td colSpan=1>Canada</td><td colSpan=1>21,721</td><td colSpan=1>5,725 (3) 3,402</td><td colSpan=1>12,593</td><td colSpan=1>158,026</td><td colSpan=1></td></tr><tr><td colSpan=1>Portugal</td><td colSpan=1>19,855</td><td colSpan=1>366 (3) 8,847</td><td colSpan=1>10,642</td><td colSpan=1>13,686</td><td colSpan=1></td></tr><tr><td colSpan=1>New Zealand</td><td colSpan=1>19,511</td><td colSpan=1>316</td><td colSpan=1>1,263</td><td colSpan=1>17,932</td><td colSpan=1>-76,442</td></tr><tr><td colSpan=1>Argentina</td><td colSpan=1>14,083</td><td colSpan=1>1,877</td><td colSpan=1>5,781</td><td colSpan=1>6,426</td><td colSpan=1>-954</td></tr><tr><td colSpan=1>Mongolia</td><td colSpan=1>12,357</td><td colSpan=1>12,054</td><td colSpan=1>1,374</td><td colSpan=1>-1,071</td><td colSpan=1>-13,442</td></tr><tr><td colSpan=1>Israel</td><td colSpan=1>10,533</td><td colSpan=1>-307</td><td colSpan=1>1,640</td><td colSpan=1>9,200</td><td colSpan=1>747</td></tr><tr><td colSpan=1>Czech Republic</td><td colSpan=1>9,440</td><td colSpan=1>94</td><td colSpan=1>5,474</td><td colSpan=1>3,871</td><td colSpan=1>1,753</td></tr><tr><td colSpan=1>Luxembourg</td><td colSpan=1>8,946</td><td colSpan=1>3,991</td><td colSpan=1>1,019</td><td colSpan=1>3,936</td><td colSpan=1>40,042</td></tr><tr><td colSpan=1>Netherlands</td><td colSpan=1>8,551</td><td colSpan=1>10</td><td colSpan=1>143</td><td colSpan=1>8,397</td><td colSpan=1>72</td></tr><tr><td colSpan=1>Colombia</td><td colSpan=1>8,440</td><td colSpan=1>42</td><td colSpan=1>3,388</td><td colSpan=1>5,011</td><td colSpan=1>-23,411</td></tr><tr><td colSpan=1>France</td><td colSpan=1>8,389</td><td colSpan=1>248</td><td colSpan=1>6,686</td><td colSpan=1>1,455</td><td colSpan=1>4,747</td></tr><tr><td colSpan=1>Panama</td><td colSpan=1>7,810</td><td colSpan=1>464</td><td colSpan=1>4,129</td><td colSpan=1>3,218</td><td colSpan=1>5,159</td></tr><tr><td colSpan=1>India</td><td colSpan=1>7,303</td><td colSpan=1>449</td><td colSpan=1>1,840</td><td colSpan=1>5,014</td><td colSpan=1>-6,189</td></tr><tr><td colSpan=1>Italy</td><td colSpan=1>5,919</td><td colSpan=1>0</td><td colSpan=1>2,061</td><td colSpan=1>3,858</td><td colSpan=1>476</td></tr><tr><td colSpan=1>Japan</td><td colSpan=1>5,702</td><td colSpan=1>1</td><td colSpan=1>549</td><td colSpan=1>5,152</td><td colSpan=1>-5,093</td></tr><tr><td colSpan=1>Botswana</td><td colSpan=1>5,683</td><td colSpan=1>2,330</td><td colSpan=1>884</td><td colSpan=1>2,480</td><td colSpan=1>27,705</td></tr><tr><td colSpan=1>Hong Kong</td><td colSpan=1>5,502</td><td colSpan=1>4,935</td><td colSpan=1>360</td><td colSpan=1>206</td><td colSpan=1>-13,192</td></tr><tr><td colSpan=1>Ecuador</td><td colSpan=1>5,477</td><td colSpan=1>1,191</td><td colSpan=1>1,404</td><td colSpan=1>2,882</td><td colSpan=1>7,656</td></tr><tr><td colSpan=1>Others (*)</td><td colSpan=1>36,073</td><td colSpan=1>4,067</td><td colSpan=1>86,185</td><td colSpan=1>-54,189</td><td colSpan=1>-69,748</td></tr><tr><td>Unattributable consolidation adjustments(4)</td></tr><tr><td>-292,112</td></tr><tr><td colSpan=1>3,362,640</td><td colSpan=1>361,742 (5)</td><td colSpan=1>1,081,415</td><td colSpan=1>1,919,483</td><td colSpan=1>1,075,788</td><td colSpan=1>538</td></tr></table><p>(*) Countries less than EUR 5 million of taxes paid.</p><p>INTEGRATED REPORT ACS GROUP 2020 Free translation from the original in Spanish.\n",
       "In the event of discrepancy, the Spanish-language version prevails.</p><p>The figures for 2019 in regard to pre-tax earnings, profit taxes paid and subsidies received are as follows:</p><table><th><td colSpan=1>Australia</td><td colSpan=1>1,030,575</td><td colSpan=1>117,455</td><td>215,423</td><td colSpan=1>697,697</td><td colSpan=1>-1,165,702</td></th><th><td colSpan=1>Spain</td><td colSpan=1>947,216</td><td colSpan=1>-154,410</td><td colSpan=1>(2)</td><td colSpan=1>412,460</td><td colSpan=1>689,166</td><td colSpan=1>546,727</td><td colSpan=1>909</td></th><tr><td colSpan=1>Country</td><td colSpan=1>TAXES PAID 2019(1)</td><td colSpan=1>Pre-tax profit(6)</td><td colSpan=1>Subsidies receivedTOTAL Profits tax paid</td><td colSpan=1>Other taxes</td><td colSpan=1>paid</td><td colSpan=1>Taxes</td><td colSpan=1>collected</td></tr><tr><td colSpan=1>United States</td><td colSpan=1>572,290</td><td colSpan=1>49,474</td><td colSpan=1></td><td colSpan=1>109,278</td><td colSpan=1>413,538</td><td colSpan=1>65,504</td><td colSpan=1></td></tr><tr><td colSpan=1>Germany</td><td colSpan=1>222,848</td><td colSpan=1>3,533</td><td colSpan=1></td><td colSpan=1>46,861</td><td colSpan=1>172,454</td><td colSpan=1>-74,849</td><td colSpan=1></td></tr><tr><td colSpan=1>Mexico</td><td colSpan=1>102,618</td><td colSpan=1>27,842</td><td colSpan=1></td><td colSpan=1>1,834</td><td colSpan=1>72,942</td><td colSpan=1>49,638</td><td colSpan=1></td></tr><tr><td colSpan=1>Indonesia</td><td colSpan=1>97,902</td><td colSpan=1>73,399</td><td colSpan=1></td><td colSpan=1>5,950</td><td colSpan=1>18,553</td><td colSpan=1>252,258</td><td colSpan=1></td></tr><tr><td colSpan=1>Peru</td><td colSpan=1>72,738</td><td colSpan=1>23,141</td><td colSpan=1></td><td colSpan=1>5,859</td><td colSpan=1>43,738</td><td colSpan=1>58,092</td><td colSpan=1></td></tr><tr><td colSpan=1>Brazil</td><td colSpan=1>68,863</td><td colSpan=1>22,475</td><td colSpan=1></td><td colSpan=1>39,582</td><td colSpan=1>6,807</td><td colSpan=1>157,964</td><td colSpan=1></td></tr><tr><td colSpan=1>United Kingdom</td><td colSpan=1>53,366</td><td colSpan=1>-2,420</td><td colSpan=1>(2)</td><td colSpan=1>12,803</td><td colSpan=1>42,982</td><td colSpan=1>16,738</td><td colSpan=1></td></tr><tr><td colSpan=1>Canada</td><td colSpan=1>46,873</td><td colSpan=1>-2,242</td><td colSpan=1>(2)</td><td colSpan=1>8,709</td><td colSpan=1>40,407</td><td colSpan=1>90,282</td><td colSpan=1></td></tr><tr><td colSpan=1>Chile</td><td colSpan=1>35,364</td><td colSpan=1>2,509</td><td colSpan=1></td><td colSpan=1>5,579</td><td colSpan=1>27,275</td><td colSpan=1>-21,959</td><td colSpan=1></td></tr><tr><td colSpan=1>Portugal</td><td colSpan=1>24,161</td><td colSpan=1>3,145</td><td colSpan=1></td><td colSpan=1>9,690</td><td colSpan=1>11,326</td><td colSpan=1>10,382</td><td colSpan=1></td></tr><tr><td colSpan=1>Singapore</td><td colSpan=1>21,640</td><td colSpan=1>18,100</td><td colSpan=1></td><td colSpan=1>2,932</td><td colSpan=1>608</td><td colSpan=1>-24,528</td><td colSpan=1></td></tr><tr><td colSpan=1>Argentina</td><td colSpan=1>18,044</td><td colSpan=1>596</td><td colSpan=1></td><td colSpan=1>7,437</td><td colSpan=1>10,010</td><td colSpan=1>7,917</td><td colSpan=1></td></tr><tr><td colSpan=1>India</td><td colSpan=1>12,287</td><td colSpan=1>1,103</td><td colSpan=1></td><td colSpan=1>1,208</td><td colSpan=1>9,976</td><td colSpan=1>6,205</td><td colSpan=1></td></tr><tr><td colSpan=1>New Zealand</td><td colSpan=1>11,115</td><td colSpan=1>13</td><td colSpan=1></td><td colSpan=1>2,456</td><td colSpan=1>8,645</td><td colSpan=1>30,286</td><td colSpan=1></td></tr><tr><td colSpan=1>Philippines</td><td colSpan=1>10,848</td><td colSpan=1>2,024</td><td colSpan=1></td><td colSpan=1>1,345</td><td colSpan=1>7,478</td><td colSpan=1>10,134</td><td colSpan=1></td></tr><tr><td colSpan=1>Hong Kong</td><td colSpan=1>9,016</td><td colSpan=1>8,376</td><td colSpan=1></td><td colSpan=1>411</td><td colSpan=1>229</td><td colSpan=1>95,268</td><td colSpan=1></td></tr><tr><td colSpan=1>Mongolia</td><td colSpan=1>8,033</td><td colSpan=1>3,811</td><td colSpan=1></td><td colSpan=1>1,806</td><td colSpan=1>2,417</td><td colSpan=1>25,609</td><td colSpan=1></td></tr><tr><td colSpan=1>Botswana</td><td colSpan=1>7,853</td><td colSpan=1>2,321</td><td colSpan=1></td><td colSpan=1>185</td><td colSpan=1>5,347</td><td colSpan=1>34,246</td><td colSpan=1></td></tr><tr><td colSpan=1>Panama</td><td colSpan=1>6,521</td><td colSpan=1>661</td><td colSpan=1></td><td colSpan=1>2,964</td><td colSpan=1>2,896</td><td colSpan=1>10,118</td><td colSpan=1></td></tr><tr><td colSpan=1>Saudi Arabia</td><td colSpan=1>6,027</td><td colSpan=1>1,093</td><td colSpan=1></td><td colSpan=1>794</td><td colSpan=1>4,140</td><td colSpan=1>28,693</td><td colSpan=1></td></tr><tr><td colSpan=1>Luxembourg</td><td colSpan=1>2,239</td><td colSpan=1>23</td><td colSpan=1></td><td colSpan=1>389</td><td colSpan=1>1,827</td><td colSpan=1>33,354</td><td colSpan=1></td></tr><tr><td colSpan=1>Others (*) (3)</td><td colSpan=1>123,039</td><td colSpan=1>6,141</td><td colSpan=1></td><td colSpan=1>89,396</td><td colSpan=1>27,502</td><td colSpan=1>-111,020</td><td colSpan=1></td></tr><tr><td colSpan=1>Unattributable consolidation adjustments(4)</td><td colSpan=1></td><td colSpan=1></td><td colSpan=1></td><td colSpan=1></td><td colSpan=1></td><td colSpan=1>-57,616</td><td colSpan=1></td></tr><tr><td colSpan=1>TOTAL</td><td colSpan=1>3,511,477</td><td colSpan=1>208,166 (5)</td><td colSpan=1></td><td colSpan=1>985,351</td><td colSpan=1>2,317,960</td><td colSpan=1>73,741</td><td colSpan=1>909</td></tr></table><p>(*) Countries less than EUR 5 million of taxes paid</p><p>221Free translation from the original in Spanish.\n",
       "In the event of discrepancy, the Spanish-language version prevails.</p>"
      ],
      "text/plain": [
       "<IPython.core.display.HTML object>"
      ]
     },
     "execution_count": 23,
     "metadata": {},
     "output_type": "execute_result"
    }
   ],
   "source": [
    "for section in doc.sections():\n",
    "    if section.title == 'Tax information Country by Country (CbC)':\n",
    "        selected_section = section\n",
    "        break\n",
    "HTML(section.to_html(include_children=True, recurse=False))"
   ]
  },
  {
   "cell_type": "code",
   "execution_count": 26,
   "id": "7b9826e6-1463-411c-8046-c8a29dbbd76b",
   "metadata": {},
   "outputs": [
    {
     "data": {
      "text/plain": [
       "' | Country |  | TAXES PAID 2020(1) Subsidies receivedTOTAL Profits tax paid Other taxes paid | Subsidies receivedTOTAL Profits tax paid Taxes collected | Pre-tax profit(2) Subsidies receivedTOTAL Profits tax paid | \\n | --- | --- | --- | --- | --- | ---\\n | Spain | 1,357,385 | 91,936 530,957 | 734,491 | 666,350 | 538\\n | United States | 635,352 | 55,959 | 96,521 | 482,871 | 31,342\\n | Australia | 629,832 | 6,865 (3) 19,503 | 427,937 | 552,326 | \\n | Germany | 120,063 | 4,771 | 36,130 | 79,162 | -30,498\\n | Indonesia | 94,849 | 33,217 | 15,971 | 45,661 | -58,024\\n | Brazil | 67,586 | 41,093 | 17,068 | 9,425 | 110,981\\n | United Kingdom | 52,325 | 1,580 (3) 10,173 | 40,572 | 14,627 | \\n | Chile | 45,662 | 11 | 11,450 | 34,202 | -73,946\\n | Mexico | 41,139 | 39,018 | 20,228 | -18,107 | 43,264\\n | Singapore | 36,950 | 35,996 (3) 1,104 | -150 | 37,190 | \\n | Peru | 36,694 | 13,109 | 4,317 | 19,268 | 47,213\\n | Poland | 23,510 | 336 | 6,037 | 17,138 | -24,525\\n | Canada | 21,721 | 5,725 (3) 3,402 | 12,593 | 158,026 | \\n | Portugal | 19,855 | 366 (3) 8,847 | 10,642 | 13,686 | \\n | New Zealand | 19,511 | 316 | 1,263 | 17,932 | -76,442\\n | Argentina | 14,083 | 1,877 | 5,781 | 6,426 | -954\\n | Mongolia | 12,357 | 12,054 | 1,374 | -1,071 | -13,442\\n | Israel | 10,533 | -307 | 1,640 | 9,200 | 747\\n | Czech Republic | 9,440 | 94 | 5,474 | 3,871 | 1,753\\n | Luxembourg | 8,946 | 3,991 | 1,019 | 3,936 | 40,042\\n | Netherlands | 8,551 | 10 | 143 | 8,397 | 72\\n | Colombia | 8,440 | 42 | 3,388 | 5,011 | -23,411\\n | France | 8,389 | 248 | 6,686 | 1,455 | 4,747\\n | Panama | 7,810 | 464 | 4,129 | 3,218 | 5,159\\n | India | 7,303 | 449 | 1,840 | 5,014 | -6,189\\n | Italy | 5,919 | 0 | 2,061 | 3,858 | 476\\n | Japan | 5,702 | 1 | 549 | 5,152 | -5,093\\n | Botswana | 5,683 | 2,330 | 884 | 2,480 | 27,705\\n | Hong Kong | 5,502 | 4,935 | 360 | 206 | -13,192\\n | Ecuador | 5,477 | 1,191 | 1,404 | 2,882 | 7,656\\n | Others (*) | 36,073 | 4,067 | 86,185 | -54,189 | -69,748\\n | Unattributable consolidation adjustments(4)\\n | -292,112\\n | 3,362,640 | 361,742 (5) | 1,081,415 | 1,919,483 | 1,075,788 | 538\\n'"
      ]
     },
     "metadata": {},
     "output_type": "display_data"
    },
    {
     "data": {
      "text/plain": [
       "' | Australia | 1,030,575 | 117,455 | 215,423 | 697,697 | -1,165,702\\n | --- | --- | --- | --- | --- | ---\\n | Spain | 947,216 | -154,410 | (2) | 412,460 | 689,166 | 546,727 | 909\\n | --- | --- | --- | --- | --- | --- | --- | ---\\n | Country | TAXES PAID 2019(1) | Pre-tax profit(6) | Subsidies receivedTOTAL Profits tax paid | Other taxes | paid | Taxes | collected\\n | United States | 572,290 | 49,474 |  | 109,278 | 413,538 | 65,504 | \\n | Germany | 222,848 | 3,533 |  | 46,861 | 172,454 | -74,849 | \\n | Mexico | 102,618 | 27,842 |  | 1,834 | 72,942 | 49,638 | \\n | Indonesia | 97,902 | 73,399 |  | 5,950 | 18,553 | 252,258 | \\n | Peru | 72,738 | 23,141 |  | 5,859 | 43,738 | 58,092 | \\n | Brazil | 68,863 | 22,475 |  | 39,582 | 6,807 | 157,964 | \\n | United Kingdom | 53,366 | -2,420 | (2) | 12,803 | 42,982 | 16,738 | \\n | Canada | 46,873 | -2,242 | (2) | 8,709 | 40,407 | 90,282 | \\n | Chile | 35,364 | 2,509 |  | 5,579 | 27,275 | -21,959 | \\n | Portugal | 24,161 | 3,145 |  | 9,690 | 11,326 | 10,382 | \\n | Singapore | 21,640 | 18,100 |  | 2,932 | 608 | -24,528 | \\n | Argentina | 18,044 | 596 |  | 7,437 | 10,010 | 7,917 | \\n | India | 12,287 | 1,103 |  | 1,208 | 9,976 | 6,205 | \\n | New Zealand | 11,115 | 13 |  | 2,456 | 8,645 | 30,286 | \\n | Philippines | 10,848 | 2,024 |  | 1,345 | 7,478 | 10,134 | \\n | Hong Kong | 9,016 | 8,376 |  | 411 | 229 | 95,268 | \\n | Mongolia | 8,033 | 3,811 |  | 1,806 | 2,417 | 25,609 | \\n | Botswana | 7,853 | 2,321 |  | 185 | 5,347 | 34,246 | \\n | Panama | 6,521 | 661 |  | 2,964 | 2,896 | 10,118 | \\n | Saudi Arabia | 6,027 | 1,093 |  | 794 | 4,140 | 28,693 | \\n | Luxembourg | 2,239 | 23 |  | 389 | 1,827 | 33,354 | \\n | Others (*) (3) | 123,039 | 6,141 |  | 89,396 | 27,502 | -111,020 | \\n | Unattributable consolidation adjustments(4) |  |  |  |  |  | -57,616 | \\n | TOTAL | 3,511,477 | 208,166 (5) |  | 985,351 | 2,317,960 | 73,741 | 909\\n'"
      ]
     },
     "metadata": {},
     "output_type": "display_data"
    }
   ],
   "source": [
    "for table in doc.tables():\n",
    "    display(table.to_text(True, True))"
   ]
  },
  {
   "cell_type": "code",
   "execution_count": 25,
   "id": "b572b516-dec1-4304-a87c-871c5d6fe57a",
   "metadata": {},
   "outputs": [
    {
     "name": "stderr",
     "output_type": "stream",
     "text": [
      "/tmp/ipykernel_94374/574903140.py:1: DeprecationWarning: Importing display from IPython.core.display is deprecated since IPython 7.14, please import from IPython display\n",
      "  from IPython.core.display import display, HTML\n"
     ]
    },
    {
     "data": {
      "text/html": [
       "<table><th><td colSpan=1>Country</td><td colSpan=1></td><td colSpan=1>TAXES PAID 2020(1) Subsidies receivedTOTAL Profits tax paid Other taxes paid</td><td colSpan=1>Subsidies receivedTOTAL Profits tax paid Taxes collected</td><td colSpan=1>Pre-tax profit(2) Subsidies receivedTOTAL Profits tax paid</td><td colSpan=1></td></th><tr><td colSpan=1>Spain</td><td colSpan=1>1,357,385</td><td colSpan=1>91,936 530,957</td><td colSpan=1>734,491</td><td colSpan=1>666,350</td><td colSpan=1>538</td></tr><tr><td colSpan=1>United States</td><td colSpan=1>635,352</td><td colSpan=1>55,959</td><td colSpan=1>96,521</td><td colSpan=1>482,871</td><td colSpan=1>31,342</td></tr><tr><td colSpan=1>Australia</td><td colSpan=1>629,832</td><td colSpan=1>6,865 (3) 19,503</td><td colSpan=1>427,937</td><td colSpan=1>552,326</td><td colSpan=1></td></tr><tr><td colSpan=1>Germany</td><td colSpan=1>120,063</td><td colSpan=1>4,771</td><td colSpan=1>36,130</td><td colSpan=1>79,162</td><td colSpan=1>-30,498</td></tr><tr><td colSpan=1>Indonesia</td><td colSpan=1>94,849</td><td colSpan=1>33,217</td><td colSpan=1>15,971</td><td colSpan=1>45,661</td><td colSpan=1>-58,024</td></tr><tr><td colSpan=1>Brazil</td><td colSpan=1>67,586</td><td colSpan=1>41,093</td><td colSpan=1>17,068</td><td colSpan=1>9,425</td><td colSpan=1>110,981</td></tr><tr><td colSpan=1>United Kingdom</td><td colSpan=1>52,325</td><td colSpan=1>1,580 (3) 10,173</td><td colSpan=1>40,572</td><td colSpan=1>14,627</td><td colSpan=1></td></tr><tr><td colSpan=1>Chile</td><td colSpan=1>45,662</td><td colSpan=1>11</td><td colSpan=1>11,450</td><td colSpan=1>34,202</td><td colSpan=1>-73,946</td></tr><tr><td colSpan=1>Mexico</td><td colSpan=1>41,139</td><td colSpan=1>39,018</td><td colSpan=1>20,228</td><td colSpan=1>-18,107</td><td colSpan=1>43,264</td></tr><tr><td colSpan=1>Singapore</td><td colSpan=1>36,950</td><td colSpan=1>35,996 (3) 1,104</td><td colSpan=1>-150</td><td colSpan=1>37,190</td><td colSpan=1></td></tr><tr><td colSpan=1>Peru</td><td colSpan=1>36,694</td><td colSpan=1>13,109</td><td colSpan=1>4,317</td><td colSpan=1>19,268</td><td colSpan=1>47,213</td></tr><tr><td colSpan=1>Poland</td><td colSpan=1>23,510</td><td colSpan=1>336</td><td colSpan=1>6,037</td><td colSpan=1>17,138</td><td colSpan=1>-24,525</td></tr><tr><td colSpan=1>Canada</td><td colSpan=1>21,721</td><td colSpan=1>5,725 (3) 3,402</td><td colSpan=1>12,593</td><td colSpan=1>158,026</td><td colSpan=1></td></tr><tr><td colSpan=1>Portugal</td><td colSpan=1>19,855</td><td colSpan=1>366 (3) 8,847</td><td colSpan=1>10,642</td><td colSpan=1>13,686</td><td colSpan=1></td></tr><tr><td colSpan=1>New Zealand</td><td colSpan=1>19,511</td><td colSpan=1>316</td><td colSpan=1>1,263</td><td colSpan=1>17,932</td><td colSpan=1>-76,442</td></tr><tr><td colSpan=1>Argentina</td><td colSpan=1>14,083</td><td colSpan=1>1,877</td><td colSpan=1>5,781</td><td colSpan=1>6,426</td><td colSpan=1>-954</td></tr><tr><td colSpan=1>Mongolia</td><td colSpan=1>12,357</td><td colSpan=1>12,054</td><td colSpan=1>1,374</td><td colSpan=1>-1,071</td><td colSpan=1>-13,442</td></tr><tr><td colSpan=1>Israel</td><td colSpan=1>10,533</td><td colSpan=1>-307</td><td colSpan=1>1,640</td><td colSpan=1>9,200</td><td colSpan=1>747</td></tr><tr><td colSpan=1>Czech Republic</td><td colSpan=1>9,440</td><td colSpan=1>94</td><td colSpan=1>5,474</td><td colSpan=1>3,871</td><td colSpan=1>1,753</td></tr><tr><td colSpan=1>Luxembourg</td><td colSpan=1>8,946</td><td colSpan=1>3,991</td><td colSpan=1>1,019</td><td colSpan=1>3,936</td><td colSpan=1>40,042</td></tr><tr><td colSpan=1>Netherlands</td><td colSpan=1>8,551</td><td colSpan=1>10</td><td colSpan=1>143</td><td colSpan=1>8,397</td><td colSpan=1>72</td></tr><tr><td colSpan=1>Colombia</td><td colSpan=1>8,440</td><td colSpan=1>42</td><td colSpan=1>3,388</td><td colSpan=1>5,011</td><td colSpan=1>-23,411</td></tr><tr><td colSpan=1>France</td><td colSpan=1>8,389</td><td colSpan=1>248</td><td colSpan=1>6,686</td><td colSpan=1>1,455</td><td colSpan=1>4,747</td></tr><tr><td colSpan=1>Panama</td><td colSpan=1>7,810</td><td colSpan=1>464</td><td colSpan=1>4,129</td><td colSpan=1>3,218</td><td colSpan=1>5,159</td></tr><tr><td colSpan=1>India</td><td colSpan=1>7,303</td><td colSpan=1>449</td><td colSpan=1>1,840</td><td colSpan=1>5,014</td><td colSpan=1>-6,189</td></tr><tr><td colSpan=1>Italy</td><td colSpan=1>5,919</td><td colSpan=1>0</td><td colSpan=1>2,061</td><td colSpan=1>3,858</td><td colSpan=1>476</td></tr><tr><td colSpan=1>Japan</td><td colSpan=1>5,702</td><td colSpan=1>1</td><td colSpan=1>549</td><td colSpan=1>5,152</td><td colSpan=1>-5,093</td></tr><tr><td colSpan=1>Botswana</td><td colSpan=1>5,683</td><td colSpan=1>2,330</td><td colSpan=1>884</td><td colSpan=1>2,480</td><td colSpan=1>27,705</td></tr><tr><td colSpan=1>Hong Kong</td><td colSpan=1>5,502</td><td colSpan=1>4,935</td><td colSpan=1>360</td><td colSpan=1>206</td><td colSpan=1>-13,192</td></tr><tr><td colSpan=1>Ecuador</td><td colSpan=1>5,477</td><td colSpan=1>1,191</td><td colSpan=1>1,404</td><td colSpan=1>2,882</td><td colSpan=1>7,656</td></tr><tr><td colSpan=1>Others (*)</td><td colSpan=1>36,073</td><td colSpan=1>4,067</td><td colSpan=1>86,185</td><td colSpan=1>-54,189</td><td colSpan=1>-69,748</td></tr><tr><td>Unattributable consolidation adjustments(4)</td></tr><tr><td>-292,112</td></tr><tr><td colSpan=1>3,362,640</td><td colSpan=1>361,742 (5)</td><td colSpan=1>1,081,415</td><td colSpan=1>1,919,483</td><td colSpan=1>1,075,788</td><td colSpan=1>538</td></tr></table>"
      ],
      "text/plain": [
       "<IPython.core.display.HTML object>"
      ]
     },
     "execution_count": 25,
     "metadata": {},
     "output_type": "execute_result"
    }
   ],
   "source": [
    "from IPython.core.display import display, HTML\n",
    "HTML(doc.tables()[0].to_html())"
   ]
  },
  {
   "cell_type": "code",
   "execution_count": 8,
   "id": "c5474e8f-2d51-4009-ad65-53ce15460267",
   "metadata": {},
   "outputs": [
    {
     "ename": "NameError",
     "evalue": "name 'chunk' is not defined",
     "output_type": "error",
     "traceback": [
      "\u001b[0;31m---------------------------------------------------------------------------\u001b[0m",
      "\u001b[0;31mNameError\u001b[0m                                 Traceback (most recent call last)",
      "Cell \u001b[0;32mIn[8], line 3\u001b[0m\n\u001b[1;32m      1\u001b[0m \u001b[38;5;66;03m#for chunk in doc.chunks():\u001b[39;00m\n\u001b[1;32m      2\u001b[0m \u001b[38;5;66;03m#    display(chunk)\u001b[39;00m\n\u001b[0;32m----> 3\u001b[0m display(\u001b[43mchunk\u001b[49m[\u001b[38;5;241m4\u001b[39m])\n",
      "\u001b[0;31mNameError\u001b[0m: name 'chunk' is not defined"
     ]
    }
   ],
   "source": [
    "#for chunk in doc.chunks():\n",
    "#    display(chunk)\n",
    "display(chunk[4])"
   ]
  }
 ],
 "metadata": {
  "kernelspec": {
   "display_name": "Python 3 (ipykernel)",
   "language": "python",
   "name": "python3"
  },
  "language_info": {
   "codemirror_mode": {
    "name": "ipython",
    "version": 3
   },
   "file_extension": ".py",
   "mimetype": "text/x-python",
   "name": "python",
   "nbconvert_exporter": "python",
   "pygments_lexer": "ipython3",
   "version": "3.10.12"
  }
 },
 "nbformat": 4,
 "nbformat_minor": 5
}
